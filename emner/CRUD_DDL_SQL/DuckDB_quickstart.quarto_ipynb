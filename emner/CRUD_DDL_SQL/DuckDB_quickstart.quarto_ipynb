{
  "cells": [
    {
      "cell_type": "markdown",
      "metadata": {},
      "source": [
        "---\n",
        "title: \"Hurtig Start med DuckDB i Python\"\n",
        "\n",
        "subtitle: \"Dataanalyse i DuckDB for Python-brugere\"\n",
        "order: 1\n",
        "\n",
        "format: \n",
        "    html:\n",
        "         x: y\n",
        "        #  order: 1\n",
        "    revealjs:\n",
        "        x: z\n",
        "        output-file: DuckDB_quickstart_slide.html\n",
        "\n",
        "\n",
        "---\n",
        "\n",
        "\n",
        "# Installation med pip\n",
        "\n",
        "Du behøver faktisk ikke installere en server, eller et decideret commando-linje-program, selv om man godt kan.\n",
        "\n",
        "Du kan bare nøjes med at installere en python-pakke, med `pip`.\n",
        "\n",
        "## Installer DuckDB med pip\n",
        "\n",
        "I _cmd_ / _PowerShell_ / _bash_:\n",
        "\n",
        "```cmd\n",
        "pip install duckdb\n",
        "```\n",
        "\n",
        "I _python_:"
      ],
      "id": "64492552"
    },
    {
      "cell_type": "code",
      "metadata": {},
      "source": [
        "#| echo: true\n",
        "\n",
        "# Kontroller installation\n",
        "import duckdb\n",
        "print(f\"DuckDB version: {duckdb.__version__}\")\n",
        "\n",
        "# Importer pandas for DataFrame visning\n",
        "import pandas as pd"
      ],
      "id": "a4d5d904",
      "execution_count": null,
      "outputs": []
    },
    {
      "cell_type": "markdown",
      "metadata": {},
      "source": [
        "## Tilslutning til database\n"
      ],
      "id": "8427d39b"
    },
    {
      "cell_type": "code",
      "metadata": {},
      "source": [
        "#| echo: true\n",
        "\n",
        "# Opret forbindelse til in-memory database\n",
        "conn = duckdb.connect()\n",
        "\n",
        "# ELLER tilslut til eksisterende fil-database\n",
        "conn = duckdb.connect('demo.db')\n",
        "\n",
        "# Alternativt, download en demo-database\n",
        "# conn.execute(\"INSTALL httpfs; LOAD httpfs;\")\n",
        "# conn.execute(\"CREATE TABLE demo AS SELECT * FROM 'https://example.com/demodata.csv'\")\n",
        "conn.close()"
      ],
      "id": "25a7fe3c",
      "execution_count": null,
      "outputs": []
    },
    {
      "cell_type": "markdown",
      "metadata": {},
      "source": [
        "## Første `SELECT` og visning som DataFrame\n"
      ],
      "id": "048f56cf"
    },
    {
      "cell_type": "code",
      "metadata": {},
      "source": [
        "#| echo: false\n",
        "#| output: false\n",
        "\n",
        "# connect til in-memory-database, for reste af denne tekst\n",
        "conn = duckdb.connect()"
      ],
      "id": "116419e4",
      "execution_count": null,
      "outputs": []
    },
    {
      "cell_type": "code",
      "metadata": {},
      "source": [
        "#| echo: true\n",
        "conn = duckdb.connect()\n",
        "# Opret en simpel test-tabel for demo\n",
        "conn.execute(\"CREATE TABLE test(id INTEGER, navn VARCHAR)\")\n",
        "conn.execute(\"INSERT INTO test VALUES (1, 'Anders'), (2, 'Mette'), (3, 'Lars')\")\n",
        "\n",
        "# Kør en SELECT og vis som DataFrame\n",
        "result_df = conn.execute(\"SELECT * FROM test\").df()\n",
        "\n",
        "# Vis DataFrame\n",
        "print(result_df)"
      ],
      "id": "e5f51a7a",
      "execution_count": null,
      "outputs": []
    },
    {
      "cell_type": "markdown",
      "metadata": {},
      "source": [
        "<!-- ```\n",
        "   id    navn\n",
        "0   1  Anders\n",
        "1   2   Mette\n",
        "2   3    Lars\n",
        "``` -->\n",
        "\n",
        "## Indsæt og opdater data"
      ],
      "id": "f02a7701"
    },
    {
      "cell_type": "code",
      "metadata": {},
      "source": [
        "#| echo: true\n",
        "# Indsæt en enkelt række\n",
        "conn.execute(\"INSERT INTO test VALUES (4, 'Sofie')\")\n",
        "\n",
        "# Indsæt fra Python variabler\n",
        "person_id = 5\n",
        "navn = \"Peter\"\n",
        "conn.execute(\"INSERT INTO test VALUES (?, ?)\", [person_id, navn])\n",
        "\n",
        "# Opdater data\n",
        "conn.execute(\"UPDATE test SET navn = 'Anders Nielsen' WHERE id = 1\")\n",
        "\n",
        "# Kontroller ændringerne\n",
        "print(conn.execute(\"SELECT * FROM test\").df())"
      ],
      "id": "345e5806",
      "execution_count": null,
      "outputs": []
    },
    {
      "cell_type": "markdown",
      "metadata": {},
      "source": [
        "## Opret ny tabel og indsæt data\n"
      ],
      "id": "fca8922b"
    },
    {
      "cell_type": "code",
      "metadata": {},
      "source": [
        "#| echo: false\n",
        "#| output: false\n",
        "\n",
        "# clean up before CREATE \n",
        "\n",
        "# conn = duckdb.connect('demo.db')\n",
        "# conn.execute(\"DROP TABLE IF EXISTS produkter\")\n",
        "\"\""
      ],
      "id": "c2927e0e",
      "execution_count": null,
      "outputs": []
    },
    {
      "cell_type": "code",
      "metadata": {},
      "source": [
        "#| echo: true\n",
        "#| output: false\n",
        "\n",
        "# Opret tabel med constraints\n",
        "conn.execute(\"\"\"\n",
        "CREATE TABLE produkter (\n",
        "    id INTEGER PRIMARY KEY,\n",
        "    navn VARCHAR NOT NULL,\n",
        "    pris DECIMAL(10,2),\n",
        "    kategori VARCHAR\n",
        ")\n",
        "\"\"\")\n",
        "\n",
        "# Bulk indsættelse af data\n",
        "conn.execute(\"\"\"\n",
        "INSERT INTO produkter VALUES\n",
        "    (1, 'Laptop', 5999.99, 'Elektronik'),\n",
        "    (2, 'Skrivebord', 1499.00, 'Møbler'),\n",
        "    (3, 'Tastatur', 499.50, 'Elektronik'),\n",
        "    (4, 'Stol', 899.00, 'Møbler')\n",
        "\"\"\")"
      ],
      "id": "967a28d1",
      "execution_count": null,
      "outputs": []
    },
    {
      "cell_type": "markdown",
      "metadata": {},
      "source": [
        "## Analyse\n"
      ],
      "id": "a1f95303"
    },
    {
      "cell_type": "code",
      "metadata": {},
      "source": [
        "#| echo: true\n",
        "# Foretag analyse med SQL\n",
        "result = conn.execute(\"\"\"\n",
        "    SELECT \n",
        "        kategori, \n",
        "        COUNT(*) as antal, \n",
        "        AVG(pris) as gennemsnit_pris,\n",
        "        SUM(pris) as total_pris\n",
        "    FROM produkter\n",
        "    GROUP BY kategori\n",
        "\"\"\").df()\n",
        "\n",
        "print(result)"
      ],
      "id": "569e02d4",
      "execution_count": null,
      "outputs": []
    },
    {
      "cell_type": "markdown",
      "metadata": {},
      "source": [
        "## Visualisering\n"
      ],
      "id": "108d0427"
    },
    {
      "cell_type": "code",
      "metadata": {},
      "source": [
        "#| echo: true\n",
        "# Fra DuckDB til pandas til visualisering\n",
        "import matplotlib.pyplot as plt\n",
        "\n",
        "result.plot(kind='bar', x='kategori', y='total_pris')\n",
        "plt.title('Total pris per kategori')\n",
        "plt.ylabel('Total pris (DKK)')\n",
        "plt.tight_layout()\n",
        "plt.show()"
      ],
      "id": "72bb9a1c",
      "execution_count": null,
      "outputs": []
    }
  ],
  "metadata": {
    "kernelspec": {
      "name": "python3",
      "language": "python",
      "display_name": "Python 3 (ipykernel)",
      "path": "/usr/share/jupyter/kernels/python3"
    }
  },
  "nbformat": 4,
  "nbformat_minor": 5
}